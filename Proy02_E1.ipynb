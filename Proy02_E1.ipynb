{
 "cells": [
  {
   "cell_type": "code",
   "execution_count": 1,
   "id": "34f0fb90",
   "metadata": {},
   "outputs": [],
   "source": [
    "(require pict)"
   ]
  },
  {
   "cell_type": "markdown",
   "id": "dc4d9f62",
   "metadata": {},
   "source": [
    "##### Ejercicio 1"
   ]
  },
  {
   "cell_type": "code",
   "execution_count": 3,
   "id": "1b5818eb",
   "metadata": {},
   "outputs": [
    {
     "data": {
      "text/html": [
       "<code>10</code>"
      ],
      "text/plain": [
       "10"
      ]
     },
     "execution_count": 3,
     "metadata": {},
     "output_type": "execute_result"
    }
   ],
   "source": [
    "(define (comb n k)\n",
    "  (if (or (= k 0) (= n k)) 1                          ; si k=0 o k=n imprime 1\n",
    "      (+ (comb (- n 1) (- k 1)) (comb (- n 1) k) )    ; sino llamada recursiva\n",
    "))\n",
    "\n",
    "(comb 5 3)"
   ]
  },
  {
   "cell_type": "markdown",
   "id": "b7dbc9e3",
   "metadata": {},
   "source": [
    "##### Ejercicio 2"
   ]
  },
  {
   "cell_type": "code",
   "execution_count": null,
   "id": "685c022f",
   "metadata": {},
   "outputs": [],
   "source": []
  },
  {
   "cell_type": "markdown",
   "id": "da7ed9b9",
   "metadata": {},
   "source": [
    "##### Ejercicio 3"
   ]
  },
  {
   "cell_type": "code",
   "execution_count": 4,
   "id": "04916e71",
   "metadata": {},
   "outputs": [
    {
     "data": {
      "text/html": [
       "<code>#t</code>"
      ],
      "text/plain": [
       "#t"
      ]
     },
     "execution_count": 4,
     "metadata": {},
     "output_type": "execute_result"
    }
   ],
   "source": [
    "(define (esPrimo n)\n",
    "  \n",
    "  (define (esPrimoAuxiliar n x) \n",
    "    (if (= x 1) #t\n",
    "        (if (= (modulo n x) 0) #f\n",
    "            (esPrimoAuxiliar n (- x 1))\n",
    "            )))\n",
    "\n",
    "  (if (or (= n 1) (= n 2)) #t\n",
    "      (esPrimoAuxiliar n (- n 1))\n",
    "\n",
    "        ))\n",
    "\n",
    "(define (primos n k)\n",
    "  (if (< n k)\n",
    "      (if (esPrimo (+ n 1))\n",
    "          (cons (+ n 1) (primos (+ n 1) (- k 1)) ) \n",
    "          (primos (+ n 1) k ) \n",
    "          )\n",
    "       '()\n",
    "       ))\n",
    "\n",
    "(esPrimo 7)"
   ]
  },
  {
   "cell_type": "markdown",
   "id": "54984e89",
   "metadata": {},
   "source": [
    "##### Ejercicio 4"
   ]
  },
  {
   "cell_type": "code",
   "execution_count": 2,
   "id": "9a9b71c7",
   "metadata": {},
   "outputs": [
    {
     "data": {
      "text/html": [
       "<code>#t</code>"
      ],
      "text/plain": [
       "#t"
      ]
     },
     "execution_count": 2,
     "metadata": {},
     "output_type": "execute_result"
    }
   ],
   "source": [
    "(define (busca n lista)\n",
    "  (if (null? lista) #f\n",
    "      (if (= n (car lista)) #t\n",
    "             (busca n (cdr lista))\n",
    ")))\n",
    "\n",
    "(busca 4 '(3 4 5))"
   ]
  },
  {
   "cell_type": "markdown",
   "id": "1e8e0c05",
   "metadata": {},
   "source": [
    "##### Ejercicio 5"
   ]
  },
  {
   "cell_type": "code",
   "execution_count": 5,
   "id": "3e512e50",
   "metadata": {},
   "outputs": [
    {
     "data": {
      "text/html": [
       "<code>'(3 2 1)</code>"
      ],
      "text/plain": [
       "'(3 2 1)"
      ]
     },
     "execution_count": 5,
     "metadata": {},
     "output_type": "execute_result"
    }
   ],
   "source": [
    "(define (invierte lista)\n",
    "  (if (null? lista)\n",
    "      '()\n",
    "      (append (invierte (cdr lista)) (list(car lista)))\n",
    "      ))\n",
    "\n",
    "(invierte '(1 2 3))"
   ]
  },
  {
   "cell_type": "markdown",
   "id": "30005c0d",
   "metadata": {},
   "source": [
    "##### Ejercicio 6"
   ]
  },
  {
   "cell_type": "code",
   "execution_count": 6,
   "id": "500c1056",
   "metadata": {},
   "outputs": [
    {
     "data": {
      "text/html": [
       "<code>'(3 5)</code>"
      ],
      "text/plain": [
       "'(3 5)"
      ]
     },
     "execution_count": 6,
     "metadata": {},
     "output_type": "execute_result"
    }
   ],
   "source": [
    "(define (elimina n lista)\n",
    "  (if(null? lista)\n",
    "     '()\n",
    "     (if (not(= n (car lista)))\n",
    "          (cons (car lista) (elimina n (cdr lista)))\n",
    "          (elimina n (cdr lista)\n",
    "                   )))\n",
    ")\n",
    "\n",
    "(elimina 4 '(3 4 5))"
   ]
  },
  {
   "cell_type": "markdown",
   "id": "40d5ef59",
   "metadata": {},
   "source": [
    "##### Ejercicio 7"
   ]
  },
  {
   "cell_type": "code",
   "execution_count": null,
   "id": "841af67c",
   "metadata": {},
   "outputs": [],
   "source": []
  },
  {
   "cell_type": "markdown",
   "id": "65baace8",
   "metadata": {},
   "source": [
    "##### Ejercicio 8"
   ]
  },
  {
   "cell_type": "code",
   "execution_count": 7,
   "id": "82e5aeca",
   "metadata": {},
   "outputs": [
    {
     "data": {
      "text/html": [
       "<code>9</code>"
      ],
      "text/plain": [
       "9"
      ]
     },
     "execution_count": 7,
     "metadata": {},
     "output_type": "execute_result"
    }
   ],
   "source": [
    "(define (SumaDigitos numero)\n",
    "  ;(displayln numero)\n",
    "  (if (<= numero 0)\n",
    "      0\n",
    "      (+ (modulo numero 10) (SumaDigitos (quotient numero 10)))) \n",
    ")\n",
    "\n",
    "(SumaDigitos 531)"
   ]
  },
  {
   "cell_type": "markdown",
   "id": "00d18508",
   "metadata": {},
   "source": [
    "##### Ejercicio 9"
   ]
  },
  {
   "cell_type": "code",
   "execution_count": 8,
   "id": "1832f685",
   "metadata": {},
   "outputs": [
    {
     "data": {
      "text/html": [
       "<code>101</code>"
      ],
      "text/plain": [
       "101"
      ]
     },
     "execution_count": 8,
     "metadata": {},
     "output_type": "execute_result"
    }
   ],
   "source": [
    "(define (Binario n)\n",
    "  (if (= n 0)\n",
    "      0\n",
    "      (+ (modulo n 2) (* 10(Binario (quotient n 2)))  )\n",
    "      )\n",
    "  )\n",
    "\n",
    "(Binario 5)"
   ]
  },
  {
   "cell_type": "markdown",
   "id": "ac74ae70",
   "metadata": {},
   "source": [
    "##### Ejercicio 10"
   ]
  },
  {
   "cell_type": "code",
   "execution_count": null,
   "id": "509a65b1",
   "metadata": {},
   "outputs": [],
   "source": [
    "(define (pot a b)\n",
    "    (if (= b 0) 1\n",
    "      (* a (pot a (- b 1)))\n",
    "        )\n",
    "     )\n",
    "\n",
    "(define (Pi n)\n",
    "  (if (< n 0)\n",
    "      0.0\n",
    "      (+ (/ (pot -1 n) (+ (* 2 n) 1.0)) (Pi (- n 1)))))\n",
    "\n"
   ]
  }
 ],
 "metadata": {
  "kernelspec": {
   "display_name": "Racket",
   "language": "racket",
   "name": "racket"
  },
  "language_info": {
   "codemirror_mode": "scheme",
   "file_extension": ".rkt",
   "mimetype": "text/x-racket",
   "name": "Racket",
   "pygments_lexer": "racket",
   "version": "8.12"
  }
 },
 "nbformat": 4,
 "nbformat_minor": 5
}
