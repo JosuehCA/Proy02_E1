{
 "cells": [
  {
   "cell_type": "markdown",
   "id": "2020432a-88be-4c08-98b2-26b5fab671d8",
   "metadata": {},
   "source": [
    "# Proyecto 02: Programación funcional 🧑‍💻\n",
    "\n",
    "## Equipo 01\n",
    "\n",
    "### Miembros del Equipo:\n",
    "- **Johan Aguilar**\n",
    "- **Julio Alcocer**\n",
    "- **Josueh Cabrera**\n",
    "- **Ricardo Córdova**\n",
    "---\n",
    "\n",
    "## Acerca de nuestro Notebook 💻\n",
    "\n",
    "## Descripción del Proyecto\n",
    "\n",
    "El proyecto consiste en la realización de un Jupyter Notebook utilizando el kernel iRacket, que incluye la implementación de una serie de ejercicios de programación funcional. Los ejercicios abordan temas como números combinatorios, cálculo del máximo común divisor, generación de números primos, búsqueda y manipulación de listas, identificación de palíndromos, suma de dígitos, conversión de números decimales a binarios, y cálculo del valor de PI utilizando la serie de Leibnitz.\n",
    "\n",
    "## Herramientas Utilizadas\n",
    "\n",
    "- **Lenguaje de Programación**: Racket\n",
    "- **Entorno de Desarrollo**: Jupyter Notebook con kernel iRacket\n",
    "\n",
    "## ¡Bienvenidos a nuestro Notebook de Programación Funcional!\n",
    "---"
   ]
  },
  {
   "cell_type": "markdown",
   "id": "779bfa41-0b09-4a2d-9aa5-9533ef4dc707",
   "metadata": {},
   "source": [
    "### Ejercicio 1 - Función para la evaluación del número combinatorio C(n,k)\n",
    "\n",
    "#### Descripción del problema:\n",
    "El número combinatorio C(n,k) representa el número de formas en que se pueden elegir k elementos distintos de un conjunto de n elementos, sin tener en cuenta el orden. La definición recursiva de C(n,k) se basa en las propiedades del triángulo de Pascal.\n",
    "\n",
    "#### Entradas:\n",
    "- `n`: Un número entero que representa el tamaño total del conjunto del que se están eligiendo elementos (`n`, debe ser entero no negativo y mayor o igual que `k`).\n",
    "- `k`: Un número entero que representa la cantidad de elementos que se están eligiendo del conjunto (`k`, debe ser entero no negativo).\n",
    "\n",
    "#### Salida:\n",
    "La salida de la función será el valor del número combinatorio C(n,k) correspondiente a las entradas proporcionadas.\n",
    "\n",
    "#### Ejemplo de uso:\n",
    "```scheme\n",
    "(comb 5 3)\n"
   ]
  },
  {
   "cell_type": "code",
   "execution_count": 1,
   "id": "1b5818eb",
   "metadata": {},
   "outputs": [],
   "source": [
    "(define (comb n k)\n",
    "  (cond\n",
    "    [(or (< n 0) (< k 0)) (error \"Los valores de n y k deben ser mayores o iguales a 0\")]\n",
    "    [(< n k) (error \"El valor de n debe ser mayor o igual a k\")]\n",
    "    [(or (= k 0) (= k n)) 1] ; si k=0 o k=n imprime 1\n",
    "    [else (+ (comb (- n 1) (- k 1)) (comb (- n 1) k) )])    ; sino llamada recursiva\n",
    ")"
   ]
  },
  {
   "cell_type": "markdown",
   "id": "3f5721c6-7e8c-4e3b-9bb7-d0145225270c",
   "metadata": {},
   "source": [
    "#### Prueba"
   ]
  },
  {
   "cell_type": "code",
   "execution_count": 2,
   "id": "cc9674c2-4f6d-4a66-b73c-63d1cb432a56",
   "metadata": {},
   "outputs": [
    {
     "name": "stdout",
     "output_type": "stream",
     "text": [
      "La combinación es igual a: 10\n"
     ]
    }
   ],
   "source": [
    "(displayln (format \"La combinación es igual a: ~a\" (comb 5 2)))  ; Puedes manipular estos números para probar "
   ]
  },
  {
   "cell_type": "markdown",
   "id": "b7dbc9e3",
   "metadata": {},
   "source": [
    "---\n",
    "### Ejercicio 2 - Cálculo del Máximo Común Divisor (MCD)\n",
    "\n",
    "#### Descripción del problema\n",
    "\n",
    "Se proporciona una función que calcula el Máximo Común Divisor (MCD) de dos enteros negativos `a` y `b`, donde `a < b`, utilizando recursión y el hecho de que `MCD(a, b) = MCD(a, b-a)`.\n",
    "\n",
    "#### Función `dif`\n",
    "\n",
    "La función `dif` toma dos parámetros:\n",
    "- `a`: Primer número entero.\n",
    "- `b`: Segundo número entero.\n",
    "\n",
    "#### Entradas:\n",
    "  - `a`: Primer número entero.\n",
    "  - `b`: Segundo número entero.\n",
    "\n",
    "#### Salida:\n",
    "  - Devuelve el valor más pequeño entre `a` y `b`.\n",
    "\n",
    "La función se implementa de manera recursiva, calculando la diferencia entre `b` y `a` si `a` no es menor que `b`, y devuelve el valor más pequeño entre `a` y `b`.\n",
    "\n",
    "#### Función `MCD`\n",
    "\n",
    "La función `MCD` toma dos parámetros:\n",
    "- `a`: El primer número entero negativo.\n",
    "- `b`: El segundo número entero negativo.\n",
    "\n",
    "#### Entradas:\n",
    "  - `a`: El primer número entero negativo.\n",
    "  - `b`: El segundo número entero negativo.\n",
    "\n",
    "#### Salida:\n",
    "  - El Máximo Común Divisor (MCD) de `a` y `b`.\n",
    "\n",
    "La función se implementa de manera recursiva utilizando la propiedad `MCD(a, b) = MCD(a, b-a)`. Si `b` es 0, el MCD es el valor absoluto de `a`, ya que el MCD de `a` y 0 es `a`. De lo contrario, calcula recursivamente el MCD con `b` y la diferencia entre `a` y `b`, tomando el valor absoluto de ambos.\n",
    "\n",
    "#### Ejemplo de Uso\n",
    "\n",
    "```scheme\n",
    "(define a -3)\n",
    "(define b -6)\n",
    "(displayln (format \"MCD de ~a y ~a = ~a\" a b (MCD a b)))\n",
    "\n"
   ]
  },
  {
   "cell_type": "code",
   "execution_count": 3,
   "id": "685c022f",
   "metadata": {},
   "outputs": [],
   "source": [
    "(define (MCD a b)\n",
    "  (displayln (format \"a: ~a, b: ~a\" a b)) ; Imprimir los valores de a y b en cada ciclo recursivo\n",
    "  (cond\n",
    "    [(= b 0) (abs a)]   ; Si b es cero, el MCD es el valor absoluto de a\n",
    "    [else (MCD b (abs (- b a)))])) ; Utilizamos el valor absoluto de (b - a) para garantizar que el resultado sea positivo"
   ]
  },
  {
   "cell_type": "markdown",
   "id": "2a2db1e0-8404-4ac4-bc68-f89810bafbe5",
   "metadata": {},
   "source": [
    "#### Prueba"
   ]
  },
  {
   "cell_type": "code",
   "execution_count": 4,
   "id": "35d5a862-d48c-49c8-8649-a3ab585016dc",
   "metadata": {},
   "outputs": [
    {
     "name": "stdout",
     "output_type": "stream",
     "text": [
      "a: 6, b: 2\n",
      "a: 2, b: 4\n",
      "a: 4, b: 2\n",
      "a: 2, b: 2\n",
      "a: 2, b: 0\n",
      "El MCD de 6 y 2 es: 2\n"
     ]
    }
   ],
   "source": [
    "(define a 6) ; Probar con nuevos valores\n",
    "(define b 2)  ; Probar con nuevos valores\n",
    "(displayln (format \"El MCD de ~a y ~a es: ~a\" a b (MCD a b)))"
   ]
  },
  {
   "cell_type": "markdown",
   "id": "da7ed9b9",
   "metadata": {},
   "source": [
    "---\n",
    "### Ejercicio 3 - Función para encontrar números primos dentro de un rango\n",
    "#### Descripción del problema\n",
    "\n",
    "Se busca definir una función recursiva que devuelva una lista de todos los números primos dentro de un rango específico.\n",
    "\n",
    "La función `primos` toma dos parámetros, `n` y `k`, que representan el número inicial y el número final del rango, respectivamente. Esta función devuelve una lista de todos los números primos.\n",
    "\n",
    "#### Entradas:\n",
    "  - `n`: Número inicial del rango.\n",
    "  - `k`: Número final del rango.\n",
    "    \n",
    "#### Salida:\n",
    "  - Una lista de todos los números primos en el rango desde `n` hasta `k`.\n",
    "\n",
    "#### Función `esPrimo`\n",
    "\n",
    "La función `esPrimo` determina si un número dado es primo o no.\n",
    "\n",
    "#### Entrada:\n",
    "  - `n`: Número que se evalúa para determinar si es primo.\n",
    "\n",
    "#### Salida:\n",
    "  - Devuelve `#t` si el número es primo, `#f` de lo contrario.\n",
    "\n",
    "Ambas funciones son utilizadas en conjunto para generar la lista de números primos dentro del rango especificado.\n",
    "\n",
    "#### Ejemplo de Uso\n",
    "```scheme\n",
    "(primos 3 10)\n"
   ]
  },
  {
   "cell_type": "code",
   "execution_count": 5,
   "id": "04916e71",
   "metadata": {},
   "outputs": [],
   "source": [
    "(define (esPrimo n)\n",
    "  \n",
    "  (define (esPrimoAuxiliar n x) \n",
    "    (if (= x 1) #t ; Si x = 1, es primo\n",
    "        (if (= (modulo n x) 0) #f ; Si n es divisible entre n, no es primo\n",
    "            (esPrimoAuxiliar n (- x 1))  ; Se verifica si n es divisible por algún otro número menor que x\n",
    "            )))\n",
    "\n",
    "  (if (or (= n 1) (= n 2)) #t\n",
    "      (esPrimoAuxiliar n (- n 1))\n",
    "        ))\n",
    "\n",
    "(define (primos n k)\n",
    "  (if (< n k)\n",
    "      (if (esPrimo (+ n 1)) ; Si el siguiente número después de n es primo\n",
    "          (cons (+ n 1) (primos (+ n 1) (- k 1)) ) ; Agrega ese número a la lista y llama recursivamente a \"primos\" con el siguiente número y k-1.\n",
    "          (primos (+ n 1) k ) \n",
    "          )\n",
    "       '() ; Si n no es menor que k, devuelve una lista vacía.\n",
    "       ))"
   ]
  },
  {
   "cell_type": "markdown",
   "id": "780ce332-f04e-4830-8c15-de55bd27ee00",
   "metadata": {},
   "source": [
    "#### Prueba"
   ]
  },
  {
   "cell_type": "code",
   "execution_count": 6,
   "id": "b6a2df29-63e7-4781-965e-b565bde33d8e",
   "metadata": {},
   "outputs": [
    {
     "name": "stdout",
     "output_type": "stream",
     "text": [
      "Números primos dentro del rango: (2 3 5 7)\n"
     ]
    }
   ],
   "source": [
    "(displayln (format \"Números primos dentro del rango: ~a\" (primos 1 10)))  ; Puedes manipular estos números para probar "
   ]
  },
  {
   "cell_type": "markdown",
   "id": "54984e89",
   "metadata": {},
   "source": [
    "---\n",
    "### Ejercicio 4 - Búsqueda de un elemento en una lista\n",
    "\n",
    "#### Descripción del problema\n",
    "Se proporciona una función recursiva que busca un elemento en una lista dada y devuelve `#t` si el elemento está presente en la lista y `#f` si no lo está.\n",
    "\n",
    "La función `busca` toma dos parámetros:\n",
    "- `n`: El elemento que se busca en la lista.\n",
    "- `lista`: La lista en la que se realizará la búsqueda.\n",
    "\n",
    "#### Entradas:\n",
    "  - `n`: Elemento que se busca en la lista.\n",
    "  - `lista`: Lista en la que se realizará la búsqueda.\n",
    "\n",
    "#### Salida:\n",
    "  - Devuelve `#t` si el elemento está presente en la lista, `#f` de lo contrario.\n",
    "\n",
    "La función recorre recursivamente la lista verificando si el primer elemento de la lista coincide con el elemento buscado. Si encuentra el elemento, devuelve `#t`; de lo contrario, sigue buscando en el resto de la lista. Si llega al final de la lista sin encontrar el elemento, devuelve `#f`.\n",
    "\n",
    "#### Ejemplo de Uso\n",
    "\n",
    "```scheme\n",
    "(busca 4 '(3 4 5))\n"
   ]
  },
  {
   "cell_type": "code",
   "execution_count": 7,
   "id": "9a9b71c7",
   "metadata": {},
   "outputs": [],
   "source": [
    "(define (busca n lista)  \n",
    "  (if (null? lista) #f  ; Si la lista es vacía, falso                 \n",
    "      (if (= n (car lista)) #t ; Si el primer elemento de la lista es igual a n, verdadero   \n",
    "          (busca n (cdr lista)))))  ; De lo contrario, se pasa n y una lista sin el primer elemento (se va recorriendo)"
   ]
  },
  {
   "cell_type": "markdown",
   "id": "b0c060d6-b2c5-4a41-bcb4-e9d2ed09b0a1",
   "metadata": {},
   "source": [
    "#### Prueba"
   ]
  },
  {
   "cell_type": "code",
   "execution_count": 8,
   "id": "d290f47d-f50b-42fa-a6ad-28e97fe25747",
   "metadata": {},
   "outputs": [
    {
     "name": "stdout",
     "output_type": "stream",
     "text": [
      "Se encontró el elemento en la lista: #t\n"
     ]
    }
   ],
   "source": [
    "(displayln (format \"Se encontró el elemento en la lista: ~a\" (busca 7 '(3 4 5 7 7))))  ; Cambiar la lista si es necesario"
   ]
  },
  {
   "cell_type": "markdown",
   "id": "1e8e0c05",
   "metadata": {},
   "source": [
    "---\n",
    "### Ejercicio 5 - Invertir una lista\n",
    "\n",
    "#### Descripción del problema \n",
    "Se proporciona una función en Racket que invierte una lista dada de forma recursiva.\n",
    "\n",
    "#### Función `invierte`\n",
    "\n",
    "La función `invierte` toma una lista como entrada y devuelve una nueva lista que es la inversión de la lista original.\n",
    "\n",
    "#### Entrada:\n",
    "  - `lista`: La lista que se desea invertir.\n",
    "\n",
    "#### Salida:\n",
    "  - Una nueva lista que es la inversión de la lista original.\n",
    "\n",
    "La función se implementa de manera recursiva eliminando el primer elemento de la lista, invirtiendo el resto de la lista y luego colocando el primer elemento al final.\n",
    "\n",
    "#### Ejemplo de Uso\n",
    "\n",
    "```scheme\n",
    "(invierte '(1 2 3))\n"
   ]
  },
  {
   "cell_type": "code",
   "execution_count": 9,
   "id": "3e512e50",
   "metadata": {},
   "outputs": [],
   "source": [
    "(define (invierte lista)\n",
    "  (if (null? lista)  ; Si la lista está vacía\n",
    "      '()  ; se devuelve vacío \n",
    "      (append (invierte (cdr lista)) (list(car lista))) ; Invierte la lista sin el primer elemento y luego agrega el primer elemento al final de la lista invertida.\n",
    "      ))"
   ]
  },
  {
   "cell_type": "markdown",
   "id": "9118cb5d-2ed9-4fad-8a40-eb53e76c75f4",
   "metadata": {},
   "source": [
    "#### Prueba"
   ]
  },
  {
   "cell_type": "code",
   "execution_count": 10,
   "id": "ff377b52-8b65-4ecb-a6c7-40bd0008e55b",
   "metadata": {},
   "outputs": [
    {
     "name": "stdout",
     "output_type": "stream",
     "text": [
      "Lista Invertida: (6 5 4 3 2 1)\n"
     ]
    }
   ],
   "source": [
    "(displayln (format \"Lista Invertida: ~a\" (invierte '(1 2 3 4 5 6))))"
   ]
  },
  {
   "cell_type": "markdown",
   "id": "30005c0d",
   "metadata": {},
   "source": [
    "---\n",
    "### Ejercicio 6 - Eliminar un elemento de la lista\n",
    "\n",
    "#### Descripción del problema\n",
    "Se proporciona una función en Racket que elimina un elemento específico de una lista dada de forma recursiva.\n",
    "\n",
    "La función `elimina` toma dos parámetros:\n",
    "- `n`: El elemento que se desea eliminar de la lista.\n",
    "- `lista`: La lista de la que se eliminará el elemento.\n",
    "\n",
    "#### Entradas:\n",
    "  - `n`: Elemento que se desea eliminar de la lista.\n",
    "  - `lista`: Lista de la que se eliminará el elemento.\n",
    "\n",
    "#### Salida:\n",
    "  - Una nueva lista que no contiene el elemento especificado.\n",
    "\n",
    "La función se implementa de manera recursiva, verificando si la lista está vacía. Si la lista no está vacía, se compara el primer elemento de la lista con el elemento que se desea eliminar. Si no son iguales, se conserva el primer elemento y se llama a la función nuevamente con el resto de la lista. Si son iguales, el primer elemento se omite y se llama a la función nuevamente con el resto de la lista.\n",
    "\n",
    "#### Ejemplo de Uso\n",
    "\n",
    "```scheme\n",
    "(elimina 4 '(2  6 7 4 5 4))"
   ]
  },
  {
   "cell_type": "code",
   "execution_count": 11,
   "id": "500c1056",
   "metadata": {},
   "outputs": [],
   "source": [
    "(define (elimina n lista)\n",
    "  (if(null? lista)\n",
    "     '()\n",
    "     (if (not(= n (car lista)))\n",
    "          (cons (car lista) (elimina n (cdr lista)))\n",
    "          (elimina n (cdr lista)\n",
    "                   )))\n",
    ")"
   ]
  },
  {
   "cell_type": "markdown",
   "id": "d55d4936-e68d-49a1-a2ff-3ec27ad16c9c",
   "metadata": {},
   "source": [
    "#### Prueba"
   ]
  },
  {
   "cell_type": "code",
   "execution_count": 12,
   "id": "0b2cdec5-25fa-475b-9cb4-f287d3c89ec4",
   "metadata": {},
   "outputs": [
    {
     "data": {
      "text/html": [
       "<code>'(2 6 7 5)</code>"
      ],
      "text/plain": [
       "'(2 6 7 5)"
      ]
     },
     "execution_count": 12,
     "metadata": {},
     "output_type": "execute_result"
    }
   ],
   "source": [
    "(elimina 4 '(2  6 7 4 5 4))"
   ]
  },
  {
   "cell_type": "markdown",
   "id": "40d5ef59",
   "metadata": {},
   "source": [
    "---\n",
    "### Ejercicio 7 - Número Palíndromo\n",
    "\n",
    "#### Descripción del problema\n",
    "Se proporciona una función en Scheme que utiliza recursión para determinar si un número entero positivo dado es un palíndromo.\n",
    "\n",
    "#### Función `palindromo?`\n",
    "\n",
    "La función `palindromo?` toma un parámetro:\n",
    "- `n`: El número entero positivo que se verificará si es un palíndromo.\n",
    "\n",
    "#### Entrada:\n",
    "  - `n`: El número entero positivo que se verificará si es un palíndromo.\n",
    "\n",
    "#### Salida:\n",
    "  - `#t` si el número dado es un palíndromo, `#f` de lo contrario.\n",
    "\n",
    "La función define una función interna llamada `invertir`, que se utiliza para invertir el número dado. Luego, compara el número original con su versión invertida. Si son iguales, devuelve `#t`, lo que indica que el número es un palíndromo; de lo contrario, devuelve `#f`.\n",
    "\n",
    "#### Función `invertir`\n",
    "\n",
    "La función `invertir` toma dos parámetros:\n",
    "- `n`: El número entero que se invertirá.\n",
    "- `reverso`: El número invertido acumulado durante la recursión.\n",
    "\n",
    "#### Entrada:\n",
    "  - `n`: El número entero que se invertirá.\n",
    "  - `reverso`: El número invertido acumulado durante la recursión.\n",
    "\n",
    "#### Salida:\n",
    "  - El número invertido.\n",
    "\n",
    "La función se implementa de manera recursiva, calculando la inversión del número dado. Esto se logra dividiendo el número repetidamente por 10 para obtener los dígitos y construyendo el número invertido agregando los dígitos en el orden opuesto.\n",
    "\n",
    "#### Ejemplo de Uso\n",
    "\n",
    "```scheme\n",
    "(palindromo? 12321)"
   ]
  },
  {
   "cell_type": "code",
   "execution_count": 13,
   "id": "841af67c",
   "metadata": {},
   "outputs": [],
   "source": [
    "(define (palindromo? n)\n",
    "  ; Definir la función invertir localmente dentro de palindromo?\n",
    "  (define (invertir n reverso)\n",
    "    ; Función interna para invertir un número\n",
    "    (if (= n 0)\n",
    "        reverso ; Si n es 0, devolver el número invertido acumulado\n",
    "        (invertir (quotient n 10) (+ (* reverso 10) (modulo n 10))))) ; Si no es 0, seguir invirtiendo el número recursivamente\n",
    "\n",
    "  ; Verificar si el número original es igual a su versión invertida\n",
    "  (= n (invertir n 0))) ; Retorna #t si es un palíndromo, de lo contrario retorna #f"
   ]
  },
  {
   "cell_type": "markdown",
   "id": "80b1789b-a78e-4656-ba64-40b7152da60a",
   "metadata": {},
   "source": [
    "#### Prueba"
   ]
  },
  {
   "cell_type": "code",
   "execution_count": 14,
   "id": "70b2e4e5-4d2f-4e56-95e3-57340e257ab1",
   "metadata": {},
   "outputs": [
    {
     "name": "stdout",
     "output_type": "stream",
     "text": [
      "Es un número palíndromo: #t\n"
     ]
    }
   ],
   "source": [
    "(displayln (format \"Es un número palíndromo: ~a\" (palindromo? 12321))) ; Imprime el resultado de la función palindromo?"
   ]
  },
  {
   "cell_type": "markdown",
   "id": "65baace8",
   "metadata": {},
   "source": [
    "---\n",
    "### Ejercicio 8 - Suma de dígitos\n",
    "\n",
    "#### Descripción del problema\n",
    "Se proporciona una función en Racket que calcula la suma de los dígitos de un número entero dado de forma recursiva.\n",
    "\n",
    "La función `SumaDigitos` toma un parámetro:\n",
    "- `numero`: El número entero del cual se calculará la suma de sus dígitos.\n",
    "\n",
    "#### Entrada:\n",
    "  - `numero`: Número entero del cual se calculará la suma de sus dígitos.\n",
    "\n",
    "#### Salida:\n",
    "  - La suma de los dígitos del número entero dado.\n",
    "\n",
    "La función se implementa de manera recursiva dividiendo repetidamente el número dado por 10 hasta que el número sea menor o igual a 0. En cada paso, se calcula el módulo del número por 10 para obtener el dígito más bajo, y luego se agrega a la suma de los dígitos del resto del número dividiéndolo por 10. Este proceso continúa hasta que el número dado se reduce a 0.\n",
    "\n",
    "#### Ejemplo de Uso\n",
    "\n",
    "```scheme\n",
    "(SumaDigitos 457)"
   ]
  },
  {
   "cell_type": "code",
   "execution_count": 15,
   "id": "82e5aeca",
   "metadata": {},
   "outputs": [],
   "source": [
    "(define (SumaDigitos numero)  \n",
    "  ;(displayln numero)  \n",
    "  (if (<= numero 0)  ; Si el número es menor o igual a cero,\n",
    "      0  ; devuelve 0 (ya que no hay dígitos para sumar).\n",
    "      (+ (modulo numero 10) (SumaDigitos (quotient numero 10)))))  ; Sino, suma el último dígito del número (\"modulo numero 10\") con el cociente entero de número entre 10 (es decir, sin el último dígito)."
   ]
  },
  {
   "cell_type": "markdown",
   "id": "34c73039-8969-43a6-a0e6-defafdfdc599",
   "metadata": {},
   "source": [
    "#### Prueba"
   ]
  },
  {
   "cell_type": "code",
   "execution_count": 16,
   "id": "ddb276db-5bd0-4f04-a97d-198503902f84",
   "metadata": {},
   "outputs": [
    {
     "name": "stdout",
     "output_type": "stream",
     "text": [
      "La suma de los dígitos es: 9\n"
     ]
    }
   ],
   "source": [
    "(displayln (format \"La suma de los dígitos es: ~a\" (SumaDigitos 531)))"
   ]
  },
  {
   "cell_type": "markdown",
   "id": "00d18508",
   "metadata": {},
   "source": [
    "---\n",
    "### Ejercicio 9 - Número decimal a binario\n",
    "\n",
    "#### Descripción del problema\n",
    "Se proporciona una función en Racket que convierte un número entero decimal dado en su equivalente en binario de forma recursiva.\n",
    "\n",
    "La función `Binario` toma un parámetro:\n",
    "- `n`: El número entero decimal que se convertirá a binario.\n",
    "\n",
    "#### Entrada:\n",
    "  - `n`: Número entero decimal.\n",
    "\n",
    "#### Salida:\n",
    "  - El número binario equivalente al número entero decimal dado.\n",
    "\n",
    "La función se implementa de manera recursiva dividiendo repetidamente el número dado por 2 hasta que el número sea igual a 0. En cada paso, se calcula el módulo del número por 2 para obtener el dígito binario correspondiente y se multiplica por 10 para posicionarlo correctamente en el resultado. Luego se agrega al resultado el dígito binario calculado junto con el resultado de la llamada recursiva con el cociente del número dividido por 2. Este proceso continúa hasta que el número dado se reduce a 0.\n",
    "\n",
    "#### Ejemplo de Uso\n",
    "\n",
    "```scheme\n",
    "(Binario 9)"
   ]
  },
  {
   "cell_type": "code",
   "execution_count": 17,
   "id": "1832f685",
   "metadata": {},
   "outputs": [],
   "source": [
    "(define (Binario n)  \n",
    "  (if (= n 0) \n",
    "      0  ; devuelve 0 (representación binaria de 0).\n",
    "      (+ (modulo n 2) (* 10 (Binario (quotient n 2))))  ; Sino, \n",
    "          ; Calcula el módulo de n dividido por 2 para obtener el bit actual de la representación binaria.\n",
    "          ; Luego, multiplica este bit por 10 y lo suma con el resultado de la llamada recursiva de Binario con el cociente entero de n entre 2.\n",
    "      )\n",
    "  )"
   ]
  },
  {
   "cell_type": "markdown",
   "id": "ba97ff89-5871-44c6-9016-2147ebedfdc0",
   "metadata": {},
   "source": [
    "#### Prueba"
   ]
  },
  {
   "cell_type": "code",
   "execution_count": 18,
   "id": "ba269e84-b7e2-45e4-85ad-78387f437a74",
   "metadata": {},
   "outputs": [
    {
     "name": "stdout",
     "output_type": "stream",
     "text": [
      "Número Binario = 110 \n"
     ]
    }
   ],
   "source": [
    "(displayln ( format \"Número Binario = ~a \" (Binario 6)))"
   ]
  },
  {
   "cell_type": "markdown",
   "id": "ac74ae70",
   "metadata": {},
   "source": [
    "---\n",
    "### Ejercicio 10 - Valor de PI\n",
    "\n",
    "#### Descripción del problema\n",
    "\n",
    "Se proporciona una función en Racket que calcula el valor de π utilizando la serie de Leibniz de forma recursiva.\n",
    "\n",
    "#### Función `pot`\n",
    "\n",
    "La función `pot` toma dos parámetros:\n",
    "- `a`: La base de la potencia.\n",
    "- `b`: El exponente al que se elevará la base.\n",
    "\n",
    "#### Entrada:\n",
    "  - `a`: Base de la potencia.\n",
    "  - `b`: Exponente de la potencia.\n",
    "\n",
    "#### Salida:\n",
    "  - El resultado de elevar `a` a la potencia `b`.\n",
    "\n",
    "La función se implementa de manera recursiva utilizando la definición matemática de potencia.\n",
    "\n",
    "#### Función `Pi`\n",
    "\n",
    "La función `Pi` toma un parámetro:\n",
    "- `n`: El número de términos de la serie de Leibniz a considerar en el cálculo de π.\n",
    "\n",
    "#### Entrada:\n",
    "  - `n`: Número de términos de la serie de Leibniz.\n",
    "\n",
    "#### Salida:\n",
    "  - El valor aproximado de π calculado utilizando la serie de Leibniz.\n",
    "\n",
    "La función se implementa de manera recursiva sumando los términos de la serie de Leibniz hasta alcanzar el número de términos especificado. Cada término se calcula mediante la fórmula (-1)^n / (2n + 1), donde `n` es el índice del término. La suma de estos términos proporciona una aproximación del valor de π.\n",
    "\n",
    "#### Ejemplo de Uso\n",
    "\n",
    "```scheme\n",
    "(Pi 100)"
   ]
  },
  {
   "cell_type": "code",
   "execution_count": 19,
   "id": "509a65b1",
   "metadata": {},
   "outputs": [],
   "source": [
    "(define (pot a b)\n",
    "  (if (= b 0)  ; Si b es igual a 0,\n",
    "      1  ; Devuelve 1, ya que cualquier número elevado a 0 es 1.\n",
    "      (* a (pot a (- b 1)))  ; De lo contrario, calcula la potencia multiplicando a por la potencia de a elevado a (b - 1).\n",
    "  )\n",
    ")\n",
    "\n",
    "(define (Pi n)\n",
    "  (if (< n 0) \n",
    "      0.0  ; Devuelve 0.0 (valor inicial).\n",
    "      (+ (/ (pot -1 n) (+ (* 2 n) 1.0))  ; De lo contrario, calcula la suma acumulativa de la fracción (-1)^n / (2n + 1).\n",
    "         (Pi (- n 1))  ; Llama recursivamente a la función Pi con n - 1 para sumar la siguiente fracción.\n",
    "      )\n",
    "  )\n",
    ")"
   ]
  },
  {
   "cell_type": "markdown",
   "id": "4e08688c-0e15-47ca-8851-875ade3b7509",
   "metadata": {},
   "source": [
    "#### Prueba"
   ]
  },
  {
   "cell_type": "code",
   "execution_count": 20,
   "id": "30501a3d-ed8c-44b7-8623-f4be0d45bcd4",
   "metadata": {},
   "outputs": [
    {
     "name": "stdout",
     "output_type": "stream",
     "text": [
      "Valor de PI = 0.7856479135848861 \n"
     ]
    }
   ],
   "source": [
    "(displayln (format \"Valor de PI = ~a \" (Pi 1000)))"
   ]
  }
 ],
 "metadata": {
  "kernelspec": {
   "display_name": "Racket",
   "language": "racket",
   "name": "racket"
  },
  "language_info": {
   "codemirror_mode": "scheme",
   "file_extension": ".rkt",
   "mimetype": "text/x-racket",
   "name": "Racket",
   "pygments_lexer": "racket",
   "version": "8.12"
  }
 },
 "nbformat": 4,
 "nbformat_minor": 5
}
